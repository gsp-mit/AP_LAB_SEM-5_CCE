{
 "cells": [
  {
   "cell_type": "markdown",
   "metadata": {},
   "source": [
    "## Q1"
   ]
  },
  {
   "cell_type": "code",
   "execution_count": 1,
   "metadata": {},
   "outputs": [
    {
     "name": "stdout",
     "output_type": "stream",
     "text": [
      "Enter number of employees: 3\n",
      "Enter details of 1th employee: (id, name, salary, department)\n",
      "1 gautam 50000 ict\n",
      "Enter details of 2th employee: (id, name, salary, department)\n",
      "2 sourav 55000 cse\n",
      "Enter details of 3th employee: (id, name, salary, department)\n",
      "3 abhijith 60000 ece\n",
      "Enter I'd of the employee to be searched: 1\n",
      "Details are: ('1', 'gautam', '50000', 'ict')\n"
     ]
    }
   ],
   "source": [
    "class Employee :\n",
    "\tdef __init__(self, emp) :\n",
    "\t\tself.t = tuple(emp)\n",
    "\tdef search_id(self, iden) :\n",
    "\t\tif self.t[0] == iden :\n",
    "\t\t\treturn \"Details are: {}\".format(self.t)\n",
    "\t\telse :\n",
    "\t\t\treturn False\n",
    "\n",
    "n = int(input(\"Enter number of employees: \"))\n",
    "\n",
    "empl = list()\n",
    "for i in range(n): \n",
    "\tprint(\"Enter details of \" + str(i+1) + \"th employee: (id, name, salary, department)\")\n",
    "\temp = input().split()\n",
    "\templ.append(Employee(emp))\n",
    "\n",
    "iden = input(\"Enter I'd of the employee to be searched: \")\n",
    "\n",
    "for e in empl :\n",
    "\tval = e.search_id(iden)\n",
    "\tif val != False :\n",
    "\t\tprint(val)\n",
    "\t\tbreak\n",
    "else :\n",
    "\tprint(\"No employee found with I'd = \",iden)"
   ]
  },
  {
   "cell_type": "markdown",
   "metadata": {},
   "source": [
    "## Q2"
   ]
  },
  {
   "cell_type": "code",
   "execution_count": null,
   "metadata": {},
   "outputs": [
    {
     "name": "stdout",
     "output_type": "stream",
     "text": [
      " Owner name: rover\n",
      " Vehicle ID: 100\n",
      " Manufacturer: Chevrolet\n",
      "Enter the name: sourav\n",
      "Enter Id: 234\n",
      "Enter manufacturer: maruti\n",
      " Owner name: sourav\n",
      " Vehicle ID: 234\n",
      " Manufacturer: maruti\n",
      "Enter the name: abhijitj\n",
      "Enter Id: 123\n"
     ]
    }
   ],
   "source": [
    "class vehicle:\n",
    "    \n",
    "    def __init__(self,name,Id,man):\n",
    "        self.name=name\n",
    "        self.Id=Id\n",
    "        self.man=man\n",
    "        \n",
    "    def Input(self):\n",
    "        self.name=input(\"Enter the name: \")\n",
    "        self.Id=input(\"Enter Id: \")\n",
    "        self.man=input(\"Enter manufacturer: \")\n",
    "        \n",
    "    def display(self):\n",
    "        print(f\" Owner name: {self.name}\")\n",
    "        print(f\" Vehicle ID: {self.Id}\")\n",
    "        print(f\" Manufacturer: {self.man}\")\n",
    "        \n",
    "class passenger(vehicle):\n",
    "    \n",
    "    def __init__(self,name,Id,man,pas):\n",
    "        super(passenger,self).__init__(name,Id,man)\n",
    "        self.pas=pas\n",
    "    \n",
    "    def Input(self):\n",
    "        super(passenger,self).Input()\n",
    "        self.pas=input(\"Enter No. of passengers\")\n",
    "        \n",
    "    def display(self):\n",
    "        super(passenger,self).display()\n",
    "        print(f\"No. of passengers: {self.pas}\")\n",
    "        \n",
    "v=vehicle(\"rover\",'100',\"Chevrolet\")\n",
    "p=passenger(\"Gautam\",\"300\",\"Audi\",2)\n",
    "\n",
    "v.display()\n",
    "v.Input()\n",
    "v.display()\n",
    "p.Input()\n",
    "p.display()"
   ]
  },
  {
   "cell_type": "markdown",
   "metadata": {},
   "source": [
    "## Q3"
   ]
  },
  {
   "cell_type": "code",
   "execution_count": 4,
   "metadata": {
    "scrolled": false
   },
   "outputs": [
    {
     "name": "stdout",
     "output_type": "stream",
     "text": [
      "Enter a list of integers: 1 2 3 4\n",
      "set()\n",
      "{4}\n",
      "{3}\n",
      "{3, 4}\n",
      "{2}\n",
      "{2, 4}\n",
      "{2, 3}\n",
      "{2, 3, 4}\n",
      "{1}\n",
      "{1, 4}\n",
      "{1, 3}\n",
      "{1, 3, 4}\n",
      "{1, 2}\n",
      "{1, 2, 4}\n",
      "{1, 2, 3}\n",
      "{1, 2, 3, 4}\n"
     ]
    }
   ],
   "source": [
    "class subset_listing :\n",
    "\tdef __init__(self, num_list) :\n",
    "\t\tself.num_list = num_list\n",
    "\n",
    "\tdef print_subsets(self) :\n",
    "\t\tsubset_list = list()\n",
    "\t\tappend_zeroes = \"0\"\n",
    "\t\tlen_list = len(self.num_list)\n",
    "\n",
    "\t\tfor i in range(2**len_list) :\n",
    "\t\t\tbin_i = str(bin(i))[2:]\n",
    "\t\t\tbin_i = append_zeroes*(len_list - len(bin_i)) + bin_i\n",
    "\t\t\tsubset = {self.num_list[j] for j, bit in enumerate(bin_i) if bit == '1'}\n",
    "\t\t\tsubset_list.append(subset)\n",
    "\n",
    "\t\tfor ele in subset_list :\n",
    "\t\t\tprint (ele)\n",
    "\n",
    "\n",
    "l = [int(i) for i in input(\"Enter a list of integers: \").split()]\n",
    "l = list(set(l))\n",
    "obj = subset_listing(l)\n",
    "obj.print_subsets()"
   ]
  }
 ],
 "metadata": {
  "kernelspec": {
   "display_name": "Python 3",
   "language": "python",
   "name": "python3"
  },
  "language_info": {
   "codemirror_mode": {
    "name": "ipython",
    "version": 3
   },
   "file_extension": ".py",
   "mimetype": "text/x-python",
   "name": "python",
   "nbconvert_exporter": "python",
   "pygments_lexer": "ipython3",
   "version": "3.8.5"
  }
 },
 "nbformat": 4,
 "nbformat_minor": 4
}
