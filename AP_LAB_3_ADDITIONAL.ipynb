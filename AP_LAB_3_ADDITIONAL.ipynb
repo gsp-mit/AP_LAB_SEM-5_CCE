{
 "cells": [
  {
   "cell_type": "markdown",
   "metadata": {},
   "source": [
    "## Q1"
   ]
  },
  {
   "cell_type": "code",
   "execution_count": 19,
   "metadata": {},
   "outputs": [
    {
     "name": "stdout",
     "output_type": "stream",
     "text": [
      "Enter a string: Hi my name is GAUTAM\n",
      "Number of Lowercase:  9\n",
      "Number of Uppercase:  7\n"
     ]
    }
   ],
   "source": [
    "def alpha(l):\n",
    "    low=0\n",
    "    upp=0\n",
    "    \n",
    "    for i in l:\n",
    "        if i.islower():\n",
    "            low+=1\n",
    "        elif i.isupper():\n",
    "            upp+=1\n",
    "    print(\"Number of Lowercase: \",low)\n",
    "    print(\"Number of Uppercase: \",upp)\n",
    "    \n",
    "l=input(\"Enter a string: \")\n",
    "alpha(l)"
   ]
  },
  {
   "cell_type": "markdown",
   "metadata": {},
   "source": [
    "## Q2"
   ]
  },
  {
   "cell_type": "code",
   "execution_count": 21,
   "metadata": {},
   "outputs": [
    {
     "name": "stdout",
     "output_type": "stream",
     "text": [
      "Enter a value for \"n\": 5\n",
      "[1]\n",
      "[1, 1]\n",
      "[1, 2, 1]\n",
      "[1, 3, 3, 1]\n",
      "[1, 4, 6, 4, 1]\n"
     ]
    }
   ],
   "source": [
    "n = int(input('Enter a value for \"n\": '))\n",
    "\n",
    "def pascal(n) :\n",
    "\tarr = list()\n",
    "\td = dict()\n",
    "\tarr.append(1)\n",
    "\tfor i in range(n) :\n",
    "\t\td[i] = arr\n",
    "\t\tarr = []\n",
    "\t\tp = d[i]\n",
    "\t\tarr.append(1)\n",
    "\t\tfor j in range(1,len(p)) :\n",
    "\t\t\tarr.append(p[j-1] + p[j])\n",
    "\t\tarr.append(1)\n",
    "\n",
    "\tfor key in d :\n",
    "\t\tprint(d[key])\n",
    "pascal(n)"
   ]
  },
  {
   "cell_type": "markdown",
   "metadata": {},
   "source": [
    "## Q3"
   ]
  },
  {
   "cell_type": "code",
   "execution_count": 26,
   "metadata": {},
   "outputs": [],
   "source": [
    "def outer():\n",
    "    print('This is the outer function')\n",
    "    def inner():\n",
    "        print('\\t\\tThis is the nested function')\n",
    "    inner()"
   ]
  },
  {
   "cell_type": "code",
   "execution_count": 27,
   "metadata": {},
   "outputs": [
    {
     "name": "stdout",
     "output_type": "stream",
     "text": [
      "This is the outer function\n",
      "\t\tThis is the nested function\n"
     ]
    }
   ],
   "source": [
    "outer()"
   ]
  }
 ],
 "metadata": {
  "kernelspec": {
   "display_name": "Python 3",
   "language": "python",
   "name": "python3"
  },
  "language_info": {
   "codemirror_mode": {
    "name": "ipython",
    "version": 3
   },
   "file_extension": ".py",
   "mimetype": "text/x-python",
   "name": "python",
   "nbconvert_exporter": "python",
   "pygments_lexer": "ipython3",
   "version": "3.8.5"
  }
 },
 "nbformat": 4,
 "nbformat_minor": 4
}
