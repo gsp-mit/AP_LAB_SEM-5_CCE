{
 "cells": [
  {
   "cell_type": "markdown",
   "metadata": {},
   "source": [
    "## Q1"
   ]
  },
  {
   "cell_type": "code",
   "execution_count": 1,
   "metadata": {},
   "outputs": [],
   "source": [
    "def append_lists(L1,L2):\n",
    "\tres=[]\n",
    "\tfor i in L1:\n",
    "\t\tif i%2!=0:\n",
    "\t\t\tres.append(i)\n",
    "\tfor i in L2:\n",
    "\t\tif  i%2==0:\n",
    "\t\t\tres.append(i)\n",
    "\tprint(res)"
   ]
  },
  {
   "cell_type": "code",
   "execution_count": 2,
   "metadata": {},
   "outputs": [
    {
     "name": "stdout",
     "output_type": "stream",
     "text": [
      "[1, 3, 5, 7, 3, 65, 9, 2, 4, 6, 8, 34]\n"
     ]
    }
   ],
   "source": [
    "L1=[1,2,3,5,7,3,65,9]\n",
    "L2=[2,4,6,3,9,8,34,65]\n",
    "\n",
    "append_lists(L1,L2)"
   ]
  },
  {
   "cell_type": "markdown",
   "metadata": {},
   "source": [
    "## Q2"
   ]
  },
  {
   "cell_type": "code",
   "execution_count": 17,
   "metadata": {},
   "outputs": [],
   "source": [
    "def pattern1(n):\n",
    "\tnum=1\n",
    "\tfor i in range(0,n):\n",
    "\t\tfor j in range(0,i+1):\n",
    "\t\t\tprint(num,end=' ')\n",
    "\t\t\tnum=num+1\n",
    "\t\tprint()\n"
   ]
  },
  {
   "cell_type": "code",
   "execution_count": 19,
   "metadata": {},
   "outputs": [
    {
     "name": "stdout",
     "output_type": "stream",
     "text": [
      "1 \n",
      "2 3 \n",
      "4 5 6 \n",
      "7 8 9 10 \n",
      "11 12 13 14 15 \n"
     ]
    }
   ],
   "source": [
    "pattern1(5)"
   ]
  },
  {
   "cell_type": "markdown",
   "metadata": {},
   "source": [
    "## Q3"
   ]
  },
  {
   "cell_type": "code",
   "execution_count": 20,
   "metadata": {},
   "outputs": [],
   "source": [
    "def read_string():\n",
    "\treturn input('Please enter a string:  ')\n",
    "\n",
    "def string_prog(n):\n",
    "\tl=[]\n",
    "\tfor i in range(0,n):\n",
    "\t\tl.append(read_string())\n",
    "\tc=0\n",
    "\tfor i in l:\n",
    "\t\tif((i[0]==i[-1]) & (len(i)>=2)):\n",
    "\t\t\tc=c+1\n",
    "\tprint()\n",
    "       \n",
    "\tprint('The number of strings with same 1st & last chars with length >=2 are:  ', c)\n",
    "\tprint()\n",
    "\tprint('Strings with odd length: ')\n",
    "\tprint()\n",
    "\tfor i in l:\n",
    "\t\tif(len(i)%2!=0):\n",
    "\t\t\t\n",
    "\t\t\tprint(i)"
   ]
  },
  {
   "cell_type": "code",
   "execution_count": 21,
   "metadata": {},
   "outputs": [
    {
     "name": "stdout",
     "output_type": "stream",
     "text": [
      "Please enter a string:  passion\n",
      "Please enter a string:  ambition\n",
      "Please enter a string:  success\n",
      "\n",
      "The number of strings with same 1st & last chars with length >=2 are:   1\n",
      "\n",
      "Strings with odd length: \n",
      "\n",
      "passion\n",
      "success\n"
     ]
    }
   ],
   "source": [
    "string_prog(3)"
   ]
  }
 ],
 "metadata": {
  "kernelspec": {
   "display_name": "Python 3",
   "language": "python",
   "name": "python3"
  },
  "language_info": {
   "codemirror_mode": {
    "name": "ipython",
    "version": 3
   },
   "file_extension": ".py",
   "mimetype": "text/x-python",
   "name": "python",
   "nbconvert_exporter": "python",
   "pygments_lexer": "ipython3",
   "version": "3.8.5"
  }
 },
 "nbformat": 4,
 "nbformat_minor": 4
}
