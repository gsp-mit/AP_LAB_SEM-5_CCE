{
 "cells": [
  {
   "cell_type": "markdown",
   "metadata": {},
   "source": [
    "## Q1"
   ]
  },
  {
   "cell_type": "code",
   "execution_count": 4,
   "metadata": {},
   "outputs": [
    {
     "name": "stdout",
     "output_type": "stream",
     "text": [
      "Enter a number: 180\n",
      "The sine value of 180 is -0.8011526357338304\n",
      "The square root of 180 is 13.416407864998739\n",
      "The log value of 180 is 5.19295685089021\n"
     ]
    }
   ],
   "source": [
    "import math\n",
    "\n",
    "def math_func():\n",
    "\tn=int(input('Enter a number: '))\n",
    "\tprint('The sine value of',n,'is', math.sin(n))\n",
    "\tprint('The square root of',n,'is', math.sqrt(n))\n",
    "\tprint('The log value of',n,'is', math.log(n))\n",
    "    \n",
    "math_func()"
   ]
  },
  {
   "cell_type": "markdown",
   "metadata": {},
   "source": [
    "## Q2"
   ]
  },
  {
   "cell_type": "code",
   "execution_count": 6,
   "metadata": {},
   "outputs": [
    {
     "name": "stdout",
     "output_type": "stream",
     "text": [
      "Enter real part: 5\n",
      "Enter imaginary part: 6\n",
      "The sine value of (5+6j) is (-193.43002005693958+57.21839505634109j)\n",
      "The square root of (5+6j) is (2.530834810483159+1.1853796176555962j)\n",
      "The log value of (5+6j) is (2.0554369320866557+0.8760580505981934j)\n"
     ]
    }
   ],
   "source": [
    "import cmath\n",
    "\n",
    "def complex_math_func():\n",
    "\treal=int(input('Enter real part: '))\n",
    "\tima=int(input('Enter imaginary part: '))\n",
    "\tn=complex(real,ima)\n",
    "\tprint('The sine value of',n,'is', cmath.sin(n))\n",
    "\tprint('The square root of',n,'is', cmath.sqrt(n))\n",
    "\tprint('The log value of',n,'is',cmath.log(n))\n",
    "  \n",
    "\n",
    "complex_math_func()"
   ]
  },
  {
   "cell_type": "markdown",
   "metadata": {},
   "source": [
    "## Q3"
   ]
  },
  {
   "cell_type": "code",
   "execution_count": 8,
   "metadata": {},
   "outputs": [
    {
     "name": "stdout",
     "output_type": "stream",
     "text": [
      "The environment variables are: \n",
      " ['ALLUSERSPROFILE', 'APPDATA', 'COMMONPROGRAMFILES', 'COMMONPROGRAMFILES(X86)', 'COMMONPROGRAMW6432', 'COMPUTERNAME', 'COMSPEC', 'DRIVERDATA', 'GOOGLE_API_KEY', 'GOOGLE_DEFAULT_CLIENT_ID', 'GOOGLE_DEFAULT_CLIENT_SECRET', 'HOMEDRIVE', 'HOMEPATH', 'JAVA_HOME', 'LOCALAPPDATA', 'LOGONSERVER', 'NUMBER_OF_PROCESSORS', 'ONEDRIVE', 'ONEDRIVECONSUMER', 'OS', 'PATH', 'PATHEXT', 'PROCESSOR_ARCHITECTURE', 'PROCESSOR_IDENTIFIER', 'PROCESSOR_LEVEL', 'PROCESSOR_REVISION', 'PROGRAMDATA', 'PROGRAMFILES', 'PROGRAMFILES(X86)', 'PROGRAMW6432', 'PSMODULEPATH', 'PUBLIC', 'SESSIONNAME', 'SYSTEMDRIVE', 'SYSTEMROOT', 'TEMP', 'TMP', 'USERDOMAIN', 'USERDOMAIN_ROAMINGPROFILE', 'USERNAME', 'USERPROFILE', 'WINDIR', 'CONDA_PREFIX', 'JPY_INTERRUPT_EVENT', 'IPY_INTERRUPT_EVENT', 'JPY_PARENT_PID', 'TERM', 'CLICOLOR', 'PAGER', 'GIT_PAGER', 'MPLBACKEND']\n"
     ]
    }
   ],
   "source": [
    "#environment variables\n",
    "import os\n",
    "\n",
    "def en_var():\n",
    "\tprint('The environment variables are: \\n', list(os.environ))\n",
    "\n",
    "en_var()"
   ]
  },
  {
   "cell_type": "markdown",
   "metadata": {},
   "source": [
    "## Q4"
   ]
  },
  {
   "cell_type": "code",
   "execution_count": 14,
   "metadata": {},
   "outputs": [
    {
     "name": "stdout",
     "output_type": "stream",
     "text": [
      " Good Night Gautam\n"
     ]
    }
   ],
   "source": [
    "from datetime import datetime\n",
    "\n",
    "def greeting(name):\n",
    "    current_time = datetime.now().strftime(\"%H:%M:%S\")\n",
    "    if int(current_time.split(':')[0] ) >= 0 and int(current_time.split(':')[0] )< 12:\n",
    "        print('Good Morning '+ name)\n",
    "    elif int(current_time.split(':')[0] )>= 12 and int(current_time.split(':')[0] )< 17:\n",
    "        print('Good Afternoon '+name)\n",
    "    elif int(current_time.split(':')[0] )>= 17 and int(current_time.split(':')[0] )< 19:\n",
    "        print('Good Ebening '+name)\n",
    "    else:\n",
    "        print(' Good Night '+name)\n",
    "\n",
    "greeting('Gautam')"
   ]
  },
  {
   "cell_type": "markdown",
   "metadata": {},
   "source": [
    "## Q5"
   ]
  },
  {
   "cell_type": "code",
   "execution_count": 17,
   "metadata": {},
   "outputs": [
    {
     "name": "stdout",
     "output_type": "stream",
     "text": [
      "Enter a sentence: hi my name is gautam\n",
      "\n",
      " Hi My Name Is Gautam\n"
     ]
    }
   ],
   "source": [
    "def capitalize():\n",
    "    sentence=input('Enter a sentence: ')\n",
    "    k=[i[0].upper() + i[1:] for i in sentence.split(' ')]\n",
    "    s=\" \".join(k)\n",
    "    print('\\n',s)\n",
    "    \n",
    "capitalize()"
   ]
  }
 ],
 "metadata": {
  "kernelspec": {
   "display_name": "Python 3",
   "language": "python",
   "name": "python3"
  },
  "language_info": {
   "codemirror_mode": {
    "name": "ipython",
    "version": 3
   },
   "file_extension": ".py",
   "mimetype": "text/x-python",
   "name": "python",
   "nbconvert_exporter": "python",
   "pygments_lexer": "ipython3",
   "version": "3.8.5"
  }
 },
 "nbformat": 4,
 "nbformat_minor": 4
}
