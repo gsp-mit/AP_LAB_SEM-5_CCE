{
 "cells": [
  {
   "cell_type": "markdown",
   "metadata": {},
   "source": [
    "## Q1"
   ]
  },
  {
   "cell_type": "code",
   "execution_count": 10,
   "metadata": {},
   "outputs": [
    {
     "name": "stdout",
     "output_type": "stream",
     "text": [
      "Enter a list: 3 45 67 21 2\n",
      "Multiplication of elements in given list =  379890\n"
     ]
    }
   ],
   "source": [
    "l = [int(i) for i in input(\"Enter a list: \").split()]\n",
    "\n",
    "def mult (a) :\n",
    "\t\"Finding the product of elements in the given list\"\n",
    "\tproduct = 1\n",
    "\tfor ele in a :\n",
    "\t\tproduct *= ele\n",
    "\n",
    "\treturn product\n",
    "\n",
    "print(\"Multiplication of elements in given list = \", mult(l))"
   ]
  },
  {
   "cell_type": "markdown",
   "metadata": {},
   "source": [
    "## Q2"
   ]
  },
  {
   "cell_type": "code",
   "execution_count": 11,
   "metadata": {},
   "outputs": [],
   "source": [
    "def unique(l):\n",
    "    s=set(l)\n",
    "    res=list(s)\n",
    "    return res"
   ]
  },
  {
   "cell_type": "code",
   "execution_count": 12,
   "metadata": {},
   "outputs": [
    {
     "data": {
      "text/plain": [
       "[1, 2, 3, 4, 5]"
      ]
     },
     "execution_count": 12,
     "metadata": {},
     "output_type": "execute_result"
    }
   ],
   "source": [
    "l1=[1,1,1,1,1,3,4,4,2,2,5,2]\n",
    "unique(l1)"
   ]
  },
  {
   "cell_type": "markdown",
   "metadata": {},
   "source": [
    "## Q3"
   ]
  },
  {
   "cell_type": "code",
   "execution_count": 17,
   "metadata": {},
   "outputs": [
    {
     "name": "stdout",
     "output_type": "stream",
     "text": [
      "36 , 828\n"
     ]
    }
   ],
   "source": [
    "def local_vars():\n",
    "    a=3\n",
    "    b=12\n",
    "    c=23\n",
    "    d=a*b\n",
    "    e=c*d\n",
    "    print(d,',',e)\n",
    "local_vars()    "
   ]
  },
  {
   "cell_type": "code",
   "execution_count": 18,
   "metadata": {},
   "outputs": [
    {
     "name": "stdout",
     "output_type": "stream",
     "text": [
      "5\n"
     ]
    }
   ],
   "source": [
    "print(local_vars.__code__.co_nlocals)"
   ]
  }
 ],
 "metadata": {
  "kernelspec": {
   "display_name": "Python 3",
   "language": "python",
   "name": "python3"
  },
  "language_info": {
   "codemirror_mode": {
    "name": "ipython",
    "version": 3
   },
   "file_extension": ".py",
   "mimetype": "text/x-python",
   "name": "python",
   "nbconvert_exporter": "python",
   "pygments_lexer": "ipython3",
   "version": "3.8.5"
  }
 },
 "nbformat": 4,
 "nbformat_minor": 4
}
