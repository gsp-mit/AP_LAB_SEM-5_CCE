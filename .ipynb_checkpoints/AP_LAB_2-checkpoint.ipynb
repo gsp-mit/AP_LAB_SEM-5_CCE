{
 "cells": [
  {
   "cell_type": "markdown",
   "metadata": {},
   "source": [
    "## Q1"
   ]
  },
  {
   "cell_type": "code",
   "execution_count": 31,
   "metadata": {},
   "outputs": [],
   "source": [
    "def count_words():\n",
    "\tst=input('enter a string:\\n ')\n",
    "\tword=[]\n",
    "\tword=st.split()\n",
    "\tfreq=[word.count(i) for i in word]\n",
    "\td1=dict(zip(word,freq))\n",
    "\tprint('\\ndictionary : ', d1)\n",
    "\tprint('The no of words', len(d1.keys()))"
   ]
  },
  {
   "cell_type": "code",
   "execution_count": 32,
   "metadata": {},
   "outputs": [
    {
     "name": "stdout",
     "output_type": "stream",
     "text": [
      "enter a string:\n",
      " Hi, my name is gautam and gautam is my name\n",
      "\n",
      "dictionary :  {'Hi,': 1, 'my': 2, 'name': 2, 'is': 2, 'gautam': 2, 'and': 1}\n",
      "The no of words 6\n"
     ]
    }
   ],
   "source": [
    "count_words()"
   ]
  },
  {
   "cell_type": "markdown",
   "metadata": {},
   "source": [
    "## Q2"
   ]
  },
  {
   "cell_type": "code",
   "execution_count": 26,
   "metadata": {},
   "outputs": [],
   "source": [
    "from collections import Counter\n",
    "import numpy as np\n",
    "\n",
    "def non_zero(mat):\n",
    "\td={(i,j):item\n",
    "\t   for i,sub in enumerate(mat)\n",
    "\t   for j,item in enumerate(sub)\n",
    "\t   if item!=0}\n",
    "\treturn(d)\n",
    "\n",
    "def read_order(mat):\n",
    "\treturn (len(mat),len(mat[0]))\n",
    "\n",
    "def add_matrices(d1,d2):\n",
    "\td=Counter(d1)+Counter(d2)\n",
    "\treturn dict(d)\n",
    "\n",
    "def dict_to_mat(d):\n",
    "\ti,j=zip(*d.keys())\n",
    "\tarr=np.zeros((max(i)+1,max(j)+1),np.int32)\n",
    "\tnp.add.at(arr,tuple((i,j)),tuple(d.values()))\n",
    "\treturn arr\n",
    "\n",
    "def matrix_prog(mat1,mat2):\n",
    "\tprint('The order of the matrix is: ', read_order(mat1))\n",
    "\tprint('The order of the matrix is: ', read_order(mat2))\n",
    "\td1=non_zero(mat1)\n",
    "\td2=non_zero(mat2)\n",
    "\tprint('\\nMatrix 1 in dict form is: ',d1)\n",
    "\tprint('Matrix 2 in dict form is: ',d2)\n",
    "\td=add_matrices(d1,d2)\n",
    "\tprint('\\nFinal added matrix is: ', d)\n",
    "\tprint('\\nNow we will convert this to a 2D matrix')\n",
    "\tmat=dict_to_mat(d)\n",
    "\tprint('\\nFinal Matrix : \\n', mat)"
   ]
  },
  {
   "cell_type": "code",
   "execution_count": 27,
   "metadata": {},
   "outputs": [],
   "source": [
    "mat1=[[0,1,0,2],[2,4,0,0],[3,0,0,4]]\n",
    "mat2=[[0,6,0,7],[9,0,0,0],[11,0,0,7]]"
   ]
  },
  {
   "cell_type": "code",
   "execution_count": 28,
   "metadata": {},
   "outputs": [
    {
     "name": "stdout",
     "output_type": "stream",
     "text": [
      "The order of the matrix is:  (3, 4)\n",
      "The order of the matrix is:  (3, 4)\n",
      "\n",
      "Matrix 1 in dict form is:  {(0, 1): 1, (0, 3): 2, (1, 0): 2, (1, 1): 4, (2, 0): 3, (2, 3): 4}\n",
      "Matrix 2 in dict form is:  {(0, 1): 6, (0, 3): 7, (1, 0): 9, (2, 0): 11, (2, 3): 7}\n",
      "\n",
      "Final added matrix is:  {(0, 1): 7, (0, 3): 9, (1, 0): 11, (1, 1): 4, (2, 0): 14, (2, 3): 11}\n",
      "\n",
      "Now we will convert this to a 2D matrix\n",
      "\n",
      "Final Matrix : \n",
      " [[ 0  7  0  9]\n",
      " [11  4  0  0]\n",
      " [14  0  0 11]]\n"
     ]
    }
   ],
   "source": [
    "matrix_prog(mat1,mat2)"
   ]
  }
 ],
 "metadata": {
  "kernelspec": {
   "display_name": "Python 3",
   "language": "python",
   "name": "python3"
  },
  "language_info": {
   "codemirror_mode": {
    "name": "ipython",
    "version": 3
   },
   "file_extension": ".py",
   "mimetype": "text/x-python",
   "name": "python",
   "nbconvert_exporter": "python",
   "pygments_lexer": "ipython3",
   "version": "3.8.5"
  }
 },
 "nbformat": 4,
 "nbformat_minor": 4
}
