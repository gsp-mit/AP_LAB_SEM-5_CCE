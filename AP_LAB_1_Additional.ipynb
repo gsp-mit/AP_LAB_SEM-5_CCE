{
 "cells": [
  {
   "cell_type": "markdown",
   "metadata": {},
   "source": [
    "## Q1"
   ]
  },
  {
   "cell_type": "code",
   "execution_count": 4,
   "metadata": {},
   "outputs": [],
   "source": [
    "def prime_range(n,m):\n",
    "\tfor num in range(n,m+1):\n",
    "\t\tfor i in range(2,num):\n",
    "\t\t\tif(num%i)==0:\n",
    "\t\t\t\tbreak\n",
    "\t\telse:\n",
    "\t\t\tprint(num,end=' ')\n",
    "\t\t\tprint()"
   ]
  },
  {
   "cell_type": "code",
   "execution_count": 5,
   "metadata": {},
   "outputs": [
    {
     "name": "stdout",
     "output_type": "stream",
     "text": [
      "2 \n",
      "3 \n",
      "5 \n",
      "7 \n",
      "11 \n",
      "13 \n",
      "17 \n",
      "19 \n",
      "23 \n",
      "29 \n"
     ]
    }
   ],
   "source": [
    "prime_range(2,30)"
   ]
  },
  {
   "cell_type": "markdown",
   "metadata": {},
   "source": [
    "### Alternate method"
   ]
  },
  {
   "cell_type": "code",
   "execution_count": 11,
   "metadata": {},
   "outputs": [
    {
     "data": {
      "text/plain": [
       "[2, 3, 5, 7, 11, 13, 17, 19, 23, 29]"
      ]
     },
     "execution_count": 11,
     "metadata": {},
     "output_type": "execute_result"
    }
   ],
   "source": [
    "prime_gen=[num for num in range(2,30) if all (num%i!=0 for i in range(2,num)) ]\n",
    "prime_gen"
   ]
  },
  {
   "cell_type": "markdown",
   "metadata": {},
   "source": [
    "## Q2"
   ]
  },
  {
   "cell_type": "code",
   "execution_count": 12,
   "metadata": {},
   "outputs": [],
   "source": [
    "def armstrong(num):\n",
    "\t\n",
    "\tsums=0\n",
    "\t\n",
    "\ttemp=num\n",
    "\twhile temp > 0:\n",
    "\t       digit=temp%10\n",
    "\t       sums+=digit**3\n",
    "\t       temp//=10\n",
    "\n",
    "\tif num==sum:\n",
    "\t\tprint(num,\"is an Armstrong number\")\n",
    "\telse:\n",
    "\t\tprint(num,\"is not an Armstrong number\")"
   ]
  },
  {
   "cell_type": "code",
   "execution_count": 13,
   "metadata": {},
   "outputs": [
    {
     "name": "stdout",
     "output_type": "stream",
     "text": [
      "153 is an Armstrong number\n"
     ]
    }
   ],
   "source": [
    "armstrong(153)"
   ]
  },
  {
   "cell_type": "code",
   "execution_count": 14,
   "metadata": {},
   "outputs": [
    {
     "name": "stdout",
     "output_type": "stream",
     "text": [
      "1234 is not an Armstrong number\n"
     ]
    }
   ],
   "source": [
    "armstrong(1234)"
   ]
  },
  {
   "cell_type": "markdown",
   "metadata": {},
   "source": [
    "## Q3"
   ]
  },
  {
   "cell_type": "code",
   "execution_count": 42,
   "metadata": {},
   "outputs": [],
   "source": [
    "def hex_check():\n",
    "\tst=input('pls enter a string')\n",
    "\tfor i in st:\n",
    "\t\tif((i<'0' or i>'9') and (i<'A'or i>'F')):\n",
    "\t\t\tprint('not a hex number')\n",
    "\t\t\tbreak\n",
    "\t\n",
    "\tprint(st, 'is a hex number')\n"
   ]
  },
  {
   "cell_type": "code",
   "execution_count": 43,
   "metadata": {},
   "outputs": [
    {
     "name": "stdout",
     "output_type": "stream",
     "text": [
      "pls enter a stringBFC456\n",
      "BFC456 is a hex number\n"
     ]
    }
   ],
   "source": [
    "hex_check()"
   ]
  }
 ],
 "metadata": {
  "kernelspec": {
   "display_name": "Python 3",
   "language": "python",
   "name": "python3"
  },
  "language_info": {
   "codemirror_mode": {
    "name": "ipython",
    "version": 3
   },
   "file_extension": ".py",
   "mimetype": "text/x-python",
   "name": "python",
   "nbconvert_exporter": "python",
   "pygments_lexer": "ipython3",
   "version": "3.8.5"
  }
 },
 "nbformat": 4,
 "nbformat_minor": 4
}
