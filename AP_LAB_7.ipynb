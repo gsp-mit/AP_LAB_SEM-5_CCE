{
 "cells": [
  {
   "cell_type": "markdown",
   "metadata": {},
   "source": [
    "## Q1"
   ]
  },
  {
   "cell_type": "code",
   "execution_count": 7,
   "metadata": {
    "scrolled": true
   },
   "outputs": [
    {
     "name": "stdout",
     "output_type": "stream",
     "text": [
      "Number of lines =  5 \n",
      "Number of Words =  60 \n",
      "Number of Characters: 362\n"
     ]
    }
   ],
   "source": [
    "f = open(\"text_ap.txt\", \"r\")\n",
    "fh = f.readlines()\n",
    "\n",
    "line_count = 0\n",
    "word_count = 0\n",
    "character_count = 0\n",
    "\n",
    "for line in fh :\n",
    "    \n",
    "  line = line.strip()\n",
    "  words = line.split()\n",
    "  line_count += 1\n",
    "  word_count += len(words)\n",
    "  character_count += len(line)\n",
    "\n",
    "f.close()\n",
    "\n",
    "print(\"Number of lines = \", line_count, \"\\nNumber of Words = \", word_count, \"\\nNumber of Characters:\", character_count)\n",
    "\n",
    "\n"
   ]
  },
  {
   "cell_type": "markdown",
   "metadata": {},
   "source": [
    "## Q2"
   ]
  },
  {
   "cell_type": "code",
   "execution_count": 8,
   "metadata": {
    "scrolled": true
   },
   "outputs": [
    {
     "name": "stdout",
     "output_type": "stream",
     "text": [
      "Lorem occured 2 times in the file\n",
      "Ipsum occured 2 times in the file\n",
      "is occured 1 times in the file\n",
      "simply occured 1 times in the file\n",
      "dummy occured 2 times in the file\n",
      "text occured 2 times in the file\n",
      "of occured 2 times in the file\n",
      "the occured 4 times in the file\n",
      "printing occured 1 times in the file\n",
      "and occured 2 times in the file\n",
      "typesetting occured 1 times in the file\n",
      "industry. occured 1 times in the file\n",
      "has occured 2 times in the file\n",
      "been occured 1 times in the file\n",
      "industry's occured 1 times in the file\n",
      "standard occured 1 times in the file\n",
      "ever occured 1 times in the file\n",
      "since occured 1 times in the file\n",
      "1500s, occured 1 times in the file\n",
      "when occured 1 times in the file\n",
      "an occured 1 times in the file\n",
      "unknown occured 1 times in the file\n",
      "printer occured 1 times in the file\n",
      "took occured 1 times in the file\n",
      "a occured 2 times in the file\n",
      "galley occured 1 times in the file\n",
      "type occured 2 times in the file\n",
      "scrambled occured 1 times in the file\n",
      "it occured 1 times in the file\n",
      "to occured 1 times in the file\n",
      "make occured 1 times in the file\n",
      "specimen occured 1 times in the file\n",
      "book. occured 1 times in the file\n",
      "It occured 1 times in the file\n",
      "survived occured 1 times in the file\n",
      "not occured 1 times in the file\n",
      "only occured 1 times in the file\n",
      "five occured 1 times in the file\n",
      "centuries, occured 1 times in the file\n",
      "but occured 1 times in the file\n",
      "also occured 1 times in the file\n",
      "leap occured 1 times in the file\n",
      "into occured 1 times in the file\n",
      "electronic occured 1 times in the file\n",
      "typesetting, occured 1 times in the file\n",
      "remaining occured 1 times in the file\n",
      "essentially occured 1 times in the file\n",
      "unchanged. occured 1 times in the file\n"
     ]
    }
   ],
   "source": [
    "f = open(\"text_ap.txt\", \"r\")\n",
    "fh = f.readlines()\n",
    "\n",
    "d =dict()\n",
    "\n",
    "for line in fh :\n",
    "\tline = line.strip()\n",
    "\twords = line.split()\n",
    "\tfor word in words :\n",
    "\t\td[word] = d.get(word,0) + 1\n",
    "\n",
    "f.close()\n",
    "\n",
    "for key in d.keys() :\n",
    "\tprint(f\"{key} occured {d[key]} times in the file\")\n"
   ]
  },
  {
   "cell_type": "markdown",
   "metadata": {},
   "source": [
    "## Q3"
   ]
  },
  {
   "cell_type": "code",
   "execution_count": 10,
   "metadata": {},
   "outputs": [
    {
     "name": "stdout",
     "output_type": "stream",
     "text": [
      "but also the leap into electronic typesetting, remaining essentially unchanged.\n",
      "\n",
      "scrambled it to make a type specimen book. It has survived not only five centuries,\n",
      "\n",
      "the 1500s, when an unknown printer took a galley of type and \n",
      "\n",
      "Lorem Ipsum has been the industry's standard dummy text ever since\n",
      "\n",
      "Lorem Ipsum is simply dummy text of the printing and typesetting industry.\n",
      "\n"
     ]
    }
   ],
   "source": [
    "f =open(\"text_ap.txt\", \"r\")\n",
    "\n",
    "fh =f.readlines()\n",
    "\n",
    "fh =fh[::-1]\n",
    "\n",
    "for line in fh :\n",
    "\tprint (line)\n",
    "\n",
    "f.close()\n"
   ]
  },
  {
   "cell_type": "markdown",
   "metadata": {},
   "source": [
    "## Q4"
   ]
  },
  {
   "cell_type": "code",
   "execution_count": 12,
   "metadata": {},
   "outputs": [],
   "source": [
    "import re\n",
    "file=open(\"input.txt\",'w+')\n",
    "l=[\"gautamprabhu01@gmail.com\\n\",\n",
    "\"gsswdeojfie@gmail.com\\n\",\n",
    "\"gs.prabhu@rediffmail.com\\n\",\n",
    "\"gautam.prabhu@learner.manipal.edu\\n\",\n",
    "\"gautam-prabhu2345@post-amn.in\\n\",\n",
    "\"gautam_prabhu@postamn.net\\n\",\\\n",
    " \"gaut:am@prabhu.xyz\"]\n",
    "\n",
    "file.writelines(l)\n",
    "file.close()\n",
    "f=open(\"input.txt\",'r')\n",
    "x=f.readlines()\n",
    "valid=open(\"valid1.txt\",\"a\")\n",
    "k=[]\n",
    "invalid=open(\"invalid1.txt\",\"a\")  \n",
    "for i in x:\n",
    "    \n",
    "    l=i.strip()\n",
    "    \n",
    "    pattern=re.compile(r'\\w.+@[a-z.-]+\\.(com|edu|net|in)')\n",
    "    matches=pattern.finditer(l)\n",
    "    for match in matches:\n",
    "        #print(match.group())\n",
    "        k.append(match.group())\n",
    "        valid.write(match.group())\n",
    "        valid.write(\"\\n\")\n",
    "    if l not in k:\n",
    "        invalid.write(l)\n",
    "        invalid.write(\"\\n\")\n",
    "         \n",
    "                    \n",
    "valid.close()\n",
    "invalid.close()\n",
    "f.close()"
   ]
  },
  {
   "cell_type": "markdown",
   "metadata": {},
   "source": [
    "## Q5"
   ]
  },
  {
   "cell_type": "code",
   "execution_count": 13,
   "metadata": {},
   "outputs": [
    {
     "name": "stdout",
     "output_type": "stream",
     "text": [
      "Valid\n",
      "Invalid\n"
     ]
    }
   ],
   "source": [
    "import re\n",
    "\n",
    "regex = r'^[a-z]$|^([a-z]).*\\1$'\n",
    "\n",
    "def check(string):\n",
    "\n",
    "    if(re.search(regex, string)): \n",
    "        print(\"Valid\") \n",
    "    else: \n",
    "        print(\"Invalid\")\n",
    "\n",
    "\n",
    "\n",
    "check(\"abba\")\n",
    "\n",
    "check(\"abbr\")\n"
   ]
  }
 ],
 "metadata": {
  "kernelspec": {
   "display_name": "Python 3",
   "language": "python",
   "name": "python3"
  },
  "language_info": {
   "codemirror_mode": {
    "name": "ipython",
    "version": 3
   },
   "file_extension": ".py",
   "mimetype": "text/x-python",
   "name": "python",
   "nbconvert_exporter": "python",
   "pygments_lexer": "ipython3",
   "version": "3.8.5"
  }
 },
 "nbformat": 4,
 "nbformat_minor": 4
}
